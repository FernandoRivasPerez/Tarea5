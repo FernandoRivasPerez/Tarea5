{
  "nbformat": 4,
  "nbformat_minor": 0,
  "metadata": {
    "colab": {
      "name": "Tarea5.ipynb",
      "provenance": [],
      "collapsed_sections": []
    },
    "kernelspec": {
      "name": "python3",
      "display_name": "Python 3"
    },
    "language_info": {
      "name": "python"
    }
  },
  "cells": [
    {
      "cell_type": "code",
      "metadata": {
        "id": "jldfzXIp1eVE"
      },
      "source": [
        "class Array:\n",
        "    def __init__( self , tam ):\n",
        "        self.__tamanio = tam\n",
        "        self.__data = [ 0 for x in range(self.__tamanio) ]\n",
        "\n",
        "    def to_string( self ):\n",
        "        info = \"\"\n",
        "        for dato in self.__data:\n",
        "            info = info + str(dato) + \" \"\n",
        "        return info\n",
        "\n",
        "    def get_item( self , index ):\n",
        "        return self.__data[index]\n",
        "\n",
        "    def get_length( self ):\n",
        "        return len( self.__data )\n",
        "\n",
        "    def set_item( self , dato , index):\n",
        "        # hace falta revisar limites\n",
        "        if index >= 0 and index < self.get_length():\n",
        "            self.__data[index] = dato\n",
        "        else:\n",
        "            print(\"Error: indice fuera de rango\")\n",
        "    \n",
        "    def clear( self , dato ):\n",
        "        self.__data = [ dato for x in range(self.__tamanio) ]"
      ],
      "execution_count": 252,
      "outputs": []
    },
    {
      "cell_type": "code",
      "metadata": {
        "colab": {
          "base_uri": "https://localhost:8080/"
        },
        "id": "LbLj1yLClBuL",
        "outputId": "9e6df134-a89b-4785-990c-a7191f5fb04d"
      },
      "source": [
        "!cat junio.dat"
      ],
      "execution_count": 253,
      "outputs": [
        {
          "output_type": "stream",
          "name": "stdout",
          "text": [
            "numero de trabajador, nombres, paterno, materno, horas extra, sueldo base, año de ingreso\r\n",
            "2345,CARLOS,PEREZ,CASTILLO,0,9850,2017\r\n",
            "5754,ANGEL,GOMEZ,GARRIDO,1,9850,2020\r\n",
            "5345,JESUS,MARTIN,SANTOS,2,9850,2016\r\n",
            "3267,DAVID,JIMENEZ,LOZANO,2,9850,2017\r\n",
            "8765,PEDRO,RUIZ,GUERRERO,2,9850,2017\r\n",
            "5454,DANIEL,HERNANDEZ,CANO,3,9850,2018\r\n",
            "3456,ALEJANDRO,DIAZ,PRIETO,2,9850,2018\r\n",
            "3445,MARIA,MORENO,MENDEZ,1,9850,2018\r\n",
            "9088,ALBERTO,MU�OZ,CRUZ,1,9850,2017\r\n",
            "8877,RAFAEL,ALVAREZ,FLORES,2,9850,2017\r\n",
            "6767,FERNANDO,ROMERO,HERRERA,4,9850,2019\r\n",
            "5654,PABLO,ALONSO,GALLEGO,1,9850,2019\r\n",
            "4323,JORGE,GUTIERREZ,MARQUEZ,2,9850,2020\r\n",
            "2232,RAMON,NAVARRO,LEON,1,9850,2016"
          ]
        }
      ]
    },
    {
      "cell_type": "code",
      "metadata": {
        "colab": {
          "base_uri": "https://localhost:8080/"
        },
        "id": "h99ceSDywB-r",
        "outputId": "9e899a72-4499-4206-94cb-e79062b5af24"
      },
      "source": [
        "archivo = open('junio.dat', 'rt' , encoding='latin-1')\n",
        "\n",
        "info = archivo.read()\n",
        "print(info)\n"
      ],
      "execution_count": 254,
      "outputs": [
        {
          "output_type": "stream",
          "name": "stdout",
          "text": [
            "numero de trabajador, nombres, paterno, materno, horas extra, sueldo base, aÃ±o de ingreso\n",
            "2345,CARLOS,PEREZ,CASTILLO,0,9850,2017\n",
            "5754,ANGEL,GOMEZ,GARRIDO,1,9850,2020\n",
            "5345,JESUS,MARTIN,SANTOS,2,9850,2016\n",
            "3267,DAVID,JIMENEZ,LOZANO,2,9850,2017\n",
            "8765,PEDRO,RUIZ,GUERRERO,2,9850,2017\n",
            "5454,DANIEL,HERNANDEZ,CANO,3,9850,2018\n",
            "3456,ALEJANDRO,DIAZ,PRIETO,2,9850,2018\n",
            "3445,MARIA,MORENO,MENDEZ,1,9850,2018\n",
            "9088,ALBERTO,MUOZ,CRUZ,1,9850,2017\n",
            "8877,RAFAEL,ALVAREZ,FLORES,2,9850,2017\n",
            "6767,FERNANDO,ROMERO,HERRERA,4,9850,2019\n",
            "5654,PABLO,ALONSO,GALLEGO,1,9850,2019\n",
            "4323,JORGE,GUTIERREZ,MARQUEZ,2,9850,2020\n",
            "2232,RAMON,NAVARRO,LEON,1,9850,2016\n"
          ]
        }
      ]
    },
    {
      "cell_type": "code",
      "metadata": {
        "colab": {
          "base_uri": "https://localhost:8080/"
        },
        "id": "xlqiobVSrHU5",
        "outputId": "0765eaae-8cb0-4d44-ab49-312c6ada9d05"
      },
      "source": [
        "archivo = open('junio.dat','rt', encoding='latin-1')\n",
        "info = archivo.readlines()\n",
        "\n",
        "for index in range( len(info) ):\n",
        "    info[index] = info[index].rstrip('\\n').split(',')\n",
        "    print(info[index])\n",
        "print(info)"
      ],
      "execution_count": 255,
      "outputs": [
        {
          "output_type": "stream",
          "name": "stdout",
          "text": [
            "['numero de trabajador', ' nombres', ' paterno', ' materno', ' horas extra', ' sueldo base', ' aÃ±o de ingreso']\n",
            "['2345', 'CARLOS', 'PEREZ', 'CASTILLO', '0', '9850', '2017']\n",
            "['5754', 'ANGEL', 'GOMEZ', 'GARRIDO', '1', '9850', '2020']\n",
            "['5345', 'JESUS', 'MARTIN', 'SANTOS', '2', '9850', '2016']\n",
            "['3267', 'DAVID', 'JIMENEZ', 'LOZANO', '2', '9850', '2017']\n",
            "['8765', 'PEDRO', 'RUIZ', 'GUERRERO', '2', '9850', '2017']\n",
            "['5454', 'DANIEL', 'HERNANDEZ', 'CANO', '3', '9850', '2018']\n",
            "['3456', 'ALEJANDRO', 'DIAZ', 'PRIETO', '2', '9850', '2018']\n",
            "['3445', 'MARIA', 'MORENO', 'MENDEZ', '1', '9850', '2018']\n",
            "['9088', 'ALBERTO', 'MU\\x84OZ', 'CRUZ', '1', '9850', '2017']\n",
            "['8877', 'RAFAEL', 'ALVAREZ', 'FLORES', '2', '9850', '2017']\n",
            "['6767', 'FERNANDO', 'ROMERO', 'HERRERA', '4', '9850', '2019']\n",
            "['5654', 'PABLO', 'ALONSO', 'GALLEGO', '1', '9850', '2019']\n",
            "['4323', 'JORGE', 'GUTIERREZ', 'MARQUEZ', '2', '9850', '2020']\n",
            "['2232', 'RAMON', 'NAVARRO', 'LEON', '1', '9850', '2016']\n",
            "[['numero de trabajador', ' nombres', ' paterno', ' materno', ' horas extra', ' sueldo base', ' aÃ±o de ingreso'], ['2345', 'CARLOS', 'PEREZ', 'CASTILLO', '0', '9850', '2017'], ['5754', 'ANGEL', 'GOMEZ', 'GARRIDO', '1', '9850', '2020'], ['5345', 'JESUS', 'MARTIN', 'SANTOS', '2', '9850', '2016'], ['3267', 'DAVID', 'JIMENEZ', 'LOZANO', '2', '9850', '2017'], ['8765', 'PEDRO', 'RUIZ', 'GUERRERO', '2', '9850', '2017'], ['5454', 'DANIEL', 'HERNANDEZ', 'CANO', '3', '9850', '2018'], ['3456', 'ALEJANDRO', 'DIAZ', 'PRIETO', '2', '9850', '2018'], ['3445', 'MARIA', 'MORENO', 'MENDEZ', '1', '9850', '2018'], ['9088', 'ALBERTO', 'MU\\x84OZ', 'CRUZ', '1', '9850', '2017'], ['8877', 'RAFAEL', 'ALVAREZ', 'FLORES', '2', '9850', '2017'], ['6767', 'FERNANDO', 'ROMERO', 'HERRERA', '4', '9850', '2019'], ['5654', 'PABLO', 'ALONSO', 'GALLEGO', '1', '9850', '2019'], ['4323', 'JORGE', 'GUTIERREZ', 'MARQUEZ', '2', '9850', '2020'], ['2232', 'RAMON', 'NAVARRO', 'LEON', '1', '9850', '2016']]\n"
          ]
        }
      ]
    },
    {
      "cell_type": "code",
      "metadata": {
        "id": "9ASmkYJcwVvj"
      },
      "source": [
        "class Trabajador:\n",
        "    def __init__( self, nt, nom, pat, mat, he, sb, ai ):\n",
        "        self.__numero_trabajador = nt\n",
        "        self.__nombre = nom\n",
        "        self.__ap_paterno = pat\n",
        "        self.__ap_materno = mat\n",
        "        self.__horas_extra = he\n",
        "        self.__sueldo_base = sb\n",
        "        self.__año_ingreso = ai\n",
        "\n",
        "    #aqui van todos los metodos de acceso\n",
        "\n",
        "    def get_numero_trabajador( self ):\n",
        "        return self.__numero_trabajador\n",
        "    \n",
        "    def set_numero_trabajador( self , nt ):\n",
        "        self.__numero_trabajador = nt\n",
        "    \n",
        "    def get_nombre( self ):\n",
        "        return self.__nombre\n",
        "    \n",
        "    def set_nombre( self , nom ):\n",
        "        self.__nombre = nom\n",
        "\n",
        "    def get_ap_paterno( self ):\n",
        "        return self.__ap_paterno\n",
        "    \n",
        "    def set_ap_paterno( self , pat ):\n",
        "        self.__ap_paterno = pat\n",
        "     \n",
        "    def get_ap_materno( self ):\n",
        "        return self.__ap_materno\n",
        "    \n",
        "    def set_ap_materno( self , mat ):\n",
        "        self.__ap_materno = mat\n",
        "\n",
        "    def get_horas_extra( self ):\n",
        "        return self.__horas_extra\n",
        "    \n",
        "    def set_horas_extra( self , he ):\n",
        "        self.__horas_extra = he\n",
        "    \n",
        "    def get_sueldo_base( self ):\n",
        "        return self.__sueldo_base\n",
        "    \n",
        "    def set_sueldo_base( self , sb ):\n",
        "        self.__sueldo_base = sb\n",
        "    \n",
        "    def get_año_ingreso( self ):\n",
        "        return self.__año_ingreso\n",
        "    \n",
        "    def set_año_ingreso( self , ai ):\n",
        "        self.__año_ingreso = ai\n",
        "\n",
        "    def antiguedad( self ):\n",
        "        return 2021 - int(self.__año_ingreso)\n",
        "        \n",
        "    #metodos de uso gral. ---> metodos que hacen calculos de la logica\n",
        "\n",
        "    \n"
      ],
      "execution_count": 256,
      "outputs": []
    },
    {
      "cell_type": "code",
      "metadata": {
        "id": "Tq4XkiBywY1h",
        "colab": {
          "base_uri": "https://localhost:8080/"
        },
        "outputId": "fd72337f-3395-4d59-a1f3-185cba15010c"
      },
      "source": [
        "class NominaADT:\n",
        "    def __init__( self , ruta_archivo ):\n",
        "        #abrir el archivo y determinar el numero de empleados ---> num_emp\n",
        "        archivo = open(ruta_archivo, 'rt', encoding='latin-1')\n",
        "        info = archivo.readlines()\n",
        "        for index in range( len(info) ):\n",
        "            info[index] = info[index].rstrip('\\n').split(',')\n",
        "        self.info = info\n",
        "        self.num_emp = len(info)-1\n",
        "        self.__data = Array( 15 )\n",
        "        contador = 0\n",
        "        for index in (self.info):\n",
        "            empleado = Trabajador(index[0], index[1], index[2], index[3], index[4], index[5], index[6])\n",
        "            self.__data.set_item(empleado, contador)\n",
        "            contador = contador + 1\n",
        "\n",
        "    def calcular_sueldos( self ):\n",
        "        #iterar sobre el Array y hacer el calculo de sueldos\n",
        "        for i in range( self.__data.get_length() - 1):\n",
        "            emp = self.get_empleado( i + 1 )\n",
        "\n",
        "            extra = int(emp.get_horas_extra()) * 276.5\n",
        "            años = ((2021 - int(emp.get_año_ingreso())) * .03) * int(emp.get_sueldo_base()) \n",
        "            suma = int(emp.get_sueldo_base()) + extra + años\n",
        "            print(f'El sueldo final de {emp.get_nombre()} es de : ${suma}')\n",
        "\n",
        "    def get_empleado(self, num):\n",
        "        return self.__data.get_item(num)\n",
        "\n",
        "    def buscar_mas_antiguo( self ):\n",
        "        #iterar y buscar en el Array el de mayor antiguedad en el puesto\n",
        "        masAntiguo = 0\n",
        "        nomEmpleado = ''\n",
        "        for i in range( self.__data.get_length() - 1):\n",
        "            emp = self.get_empleado( i + 1)\n",
        "            if emp.antiguedad() > masAntiguo:\n",
        "                masAntiguo = emp.antiguedad()\n",
        "                nomEmpleado = emp.get_nombre()\n",
        "                nomEmpleados = nomEmpleado\n",
        "            elif emp.antiguedad() == masAntiguo:\n",
        "                nomEmpleado = emp.get_nombre()\n",
        "                nomEmpleados = nomEmpleados + ' ' + nomEmpleado\n",
        "        print(f'El o los empleados más antiguos son: {nomEmpleados}')\n",
        "\n",
        "    def buscar_menor_antiguedad( self ): \n",
        "        #idem\n",
        "        menosAntiguo = 0\n",
        "        nomEmpleadoDos = ''\n",
        "        nomEmpleados = ''\n",
        "        for i in range( self.__data.get_length() - 1):\n",
        "            emp = self.get_empleado( i + 1)\n",
        "            if emp.antiguedad() < menosAntiguo:\n",
        "                menosAntiguo = emp.antiguedad()\n",
        "                nomEmpleadoDos = emp.get_nombre()\n",
        "                nomEmpleados = nomEmpleado\n",
        "            elif emp.antiguedad() == menosAntiguo:\n",
        "                nomEmpleadoDos = emp.get_nombre()\n",
        "                nomEmpleados = nomEmpleados + ' ' + nomEmpleadoDos\n",
        "        print(f'El o los empleados más antiguos son: {nomEmpleados}')\n",
        "\n",
        "empresa1 = NominaADT('junio.dat')\n",
        "print(f'Numero de empleados: {empresa1.num_emp}')\n",
        "print(empresa1.calcular_sueldos())\n",
        "print(empresa1.buscar_mas_antiguo())\n",
        "print(empresa1.buscar_menor_antiguedad())"
      ],
      "execution_count": 324,
      "outputs": [
        {
          "output_type": "stream",
          "name": "stdout",
          "text": [
            "Numero de empleados: 14\n",
            "El sueldo final de CARLOS es de : $11032.0\n",
            "El sueldo final de ANGEL es de : $10422.0\n",
            "El sueldo final de JESUS es de : $11880.5\n",
            "El sueldo final de DAVID es de : $11585.0\n",
            "El sueldo final de PEDRO es de : $11585.0\n",
            "El sueldo final de DANIEL es de : $11566.0\n",
            "El sueldo final de ALEJANDRO es de : $11289.5\n",
            "El sueldo final de MARIA es de : $11013.0\n",
            "El sueldo final de ALBERTO es de : $11308.5\n",
            "El sueldo final de RAFAEL es de : $11585.0\n",
            "El sueldo final de FERNANDO es de : $11547.0\n",
            "El sueldo final de PABLO es de : $10717.5\n",
            "El sueldo final de JORGE es de : $10698.5\n",
            "El sueldo final de RAMON es de : $11604.0\n",
            "None\n",
            "El o los empleados más antiguos son: JESUS RAMON\n",
            "None\n",
            "El o los empleados más antiguos son: \n",
            "None\n"
          ]
        }
      ]
    }
  ]
}